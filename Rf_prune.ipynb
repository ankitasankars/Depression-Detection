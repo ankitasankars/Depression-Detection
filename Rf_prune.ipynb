{
  "nbformat": 4,
  "nbformat_minor": 0,
  "metadata": {
    "colab": {
      "name": "Rf_prune.ipynb",
      "provenance": []
    },
    "kernelspec": {
      "name": "python3",
      "display_name": "Python 3"
    }
  },
  "cells": [
    {
      "cell_type": "code",
      "metadata": {
        "id": "z4nc-hevi6_5",
        "outputId": "5396ef4d-61f2-488a-816a-bfc1f5f2c419",
        "colab": {
          "base_uri": "https://localhost:8080/"
        }
      },
      "source": [
        "from google.colab import drive\n",
        "drive.mount('/content/drive')"
      ],
      "execution_count": 1,
      "outputs": [
        {
          "output_type": "stream",
          "name": "stdout",
          "text": [
            "Mounted at /content/drive\n"
          ]
        }
      ]
    },
    {
      "cell_type": "code",
      "source": [
        "import numpy as np\n",
        "import nltk\n",
        "import pandas as pd\n",
        "from gensim.models.keyedvectors import KeyedVectors\n",
        "nltk.download('stopwords')\n",
        "from nltk.corpus import stopwords\n",
        "from sklearn.metrics import classification_report\n",
        "\n",
        "print(\"Text Results: \")"
      ],
      "metadata": {
        "id": "IAtmDb5ZSafu",
        "outputId": "57980c21-a7e0-46b4-cea2-11353b6c9775",
        "colab": {
          "base_uri": "https://localhost:8080/"
        }
      },
      "execution_count": 2,
      "outputs": [
        {
          "output_type": "stream",
          "name": "stdout",
          "text": [
            "Text Results: \n"
          ]
        },
        {
          "output_type": "stream",
          "name": "stderr",
          "text": [
            "[nltk_data] Downloading package stopwords to /root/nltk_data...\n",
            "[nltk_data]   Unzipping corpora/stopwords.zip.\n"
          ]
        }
      ]
    },
    {
      "cell_type": "code",
      "source": [
        "dataset1 = np.array(pd.read_csv('/content/drive/MyDrive/DAIC/dev_split_Depression_AVEC2017.csv',delimiter=',',encoding='utf-8'))[:, 0:2]\n",
        "dataset2 = np.array(pd.read_csv('/content/drive/MyDrive/DAIC/full_test_split.csv',delimiter=',',encoding='utf-8'))[:, 0:2]\n",
        "dataset3 = np.array(pd.read_csv('/content/drive/MyDrive/DAIC/train_split_Depression_AVEC2017.csv',delimiter=',',encoding='utf-8'))[:, 0:2]"
      ],
      "metadata": {
        "id": "hRdv5aOjScwH"
      },
      "execution_count": 3,
      "outputs": []
    },
    {
      "cell_type": "code",
      "metadata": {
        "id": "2qzdujdKjc7N",
        "colab": {
          "base_uri": "https://localhost:8080/"
        },
        "outputId": "8e1ae57a-e3d8-4a33-c6c4-ee882306a190"
      },
      "source": [
        "countPos = 0\n",
        "dataset = np.concatenate((dataset1, np.concatenate((dataset2, dataset3))))\n",
        "def checkPosNeg(dataset, index):\n",
        "    for i in range(0, len(dataset)):\n",
        "        if(dataset[i][0] == index):\n",
        "            return dataset[i][1]\n",
        "    return 0\n",
        "\n",
        "Data = []\n",
        "Y = []\n",
        "\n",
        "Data_test = []\n",
        "Y_test = []\n",
        "index = -1\n",
        "for i in range(0, len(dataset3)):\n",
        "    val = checkPosNeg(dataset, dataset3[i][0])\n",
        "    if(val == 0 and countPos>38):\n",
        "        continue\n",
        "    Y.append(val)\n",
        "    index+=1\n",
        "    if(Y[index] == 0):\n",
        "        countPos+=1\n",
        "\n",
        "    \n",
        "    fileName = \"/content/drive/MyDrive/DAIC/train_data/\" + str(int(dataset3[i][0])) + \"_TRANSCRIPT.csv\"\n",
        "    Data.append(np.array(pd.read_csv(fileName,delimiter='\\t',encoding='utf-8'))[:, 2:4])\n",
        "\n",
        "\n",
        "for i in range(0, len(dataset1)):\n",
        "    val = checkPosNeg(dataset, dataset1[i][0])\n",
        "    if(val == 0):\n",
        "        continue\n",
        "    Y.append(val)\n",
        "    fileName = \"/content/drive/MyDrive/DAIC/dev_data/\" + str(int(dataset1[i][0])) + \"_TRANSCRIPT.csv\"\n",
        "    Data.append(np.array(pd.read_csv(fileName,delimiter='\\t',encoding='utf-8'))[:, 2:4])\n",
        "    \n",
        "for i in range(0, len(dataset2)):\n",
        "    Y_test.append(checkPosNeg(dataset, dataset2[i][0]))\n",
        "    fileName = \"/content/drive/MyDrive/DAIC/test_data/\" + str(int(dataset2[i][0])) + \"_TRANSCRIPT.csv\"\n",
        "    Data_test.append(np.array(pd.read_csv(fileName,delimiter='\\t',encoding='utf-8'))[:, 2:4])\n",
        "\n",
        "    \n",
        "Y = np.array(Y)\n",
        "Data2 = []\n",
        "\n",
        "Data2_test = []\n",
        "Y_test = np.array(Y_test)\n",
        "\n",
        "for i in range(0, len(Data)):\n",
        "    script = []\n",
        "    for k in range(1, len(Data[i])):\n",
        "        if(Data[i][k][0] == \"Participant\"):\n",
        "            script.append(Data[i][k][1])\n",
        "    Data2.append(script)\n",
        "    \n",
        "for i in range(0, len(Data_test)):\n",
        "    script = []\n",
        "    for k in range(1, len(Data_test[i])):\n",
        "        if(Data_test[i][k][0] == \"Participant\"):\n",
        "            script.append(Data_test[i][k][1])\n",
        "    Data2_test.append(script)\n",
        "        \n",
        "Data2 = np.array(Data2)\n",
        "Data2_test = np.array(Data2_test)\n",
        "\n",
        "model = KeyedVectors.load_word2vec_format('/content/drive/MyDrive/DAIC/GoogleNews-vectors-negative300.bin', binary=True)\n",
        "\n",
        "stop_words = set(stopwords.words('english'))\n",
        "\n",
        "\n",
        "def remove_StopWOrds(sentence):\n",
        "    filtered_sentence = [] \n",
        "    for w in sentence: \n",
        "        if w not in stop_words: \n",
        "            filtered_sentence.append(w)\n",
        "    \n",
        "    return filtered_sentence\n",
        "\n",
        "def checkAcc(Y_pred, Y_test):\n",
        "    correct = 0\n",
        "    for i in range(len(Y_pred)):\n",
        "        if(Y_pred[i] == Y_test[i]):\n",
        "            correct+=1\n",
        "    \n",
        "    return float(correct)/len(Y_pred)\n",
        "\n",
        "\n",
        "max_num_words = 15\n",
        "max_num_sentence = 200\n",
        "\n",
        "#train_data\n",
        "finalMatrix = np.zeros((Data2.shape[0], max_num_sentence, max_num_words))\n",
        "print(finalMatrix.shape)\n",
        "for k in range(Data2.shape[0]):\n",
        "    for i in range(min(max_num_sentence, len(Data2[k][0]))):\n",
        "    \tsentence = Data2[k][i].split(\" \")\n",
        "    \tsentence = remove_StopWOrds(sentence)\n",
        "    \tfor j in range(min(max_num_words, len(sentence))):\n",
        "    \t\ttry:\n",
        "    \t\t\tfinalMatrix[k][i][j] = np.average(np.array(model[sentence[j]]))\n",
        "    \t\texcept:\n",
        "    \t\t\tcontinue\n",
        "X = np.zeros((len(Data2), max_num_sentence*max_num_words))\n",
        "for i in range(len(finalMatrix)):\n",
        "    X[i] = finalMatrix[i].flatten().reshape(1, -1)\n",
        " \n",
        "#Test_data\n",
        "finalMatrix_test = np.zeros((Data2_test.shape[0], max_num_sentence, max_num_words))\n",
        "print(finalMatrix_test.shape)\n",
        "for k in range(Data2_test.shape[0]):\n",
        "    for i in range(min(max_num_sentence, len(Data2_test[k][0]))):\n",
        "    \tsentence = Data2_test[k][i].split(\" \")\n",
        "    \tsentence = remove_StopWOrds(sentence)\n",
        "    \tfor j in range(min(max_num_words, len(sentence))):\n",
        "    \t\ttry:\n",
        "    \t\t\tfinalMatrix_test[k][i][j] = np.average(np.array(model[sentence[j]]))\n",
        "    \t\texcept:\n",
        "    \t\t\tcontinue\n",
        "X_test = np.zeros((len(Data2_test), max_num_sentence*max_num_words))\n",
        "for i in range(len(finalMatrix_test)):\n",
        "    X_test[i] = finalMatrix_test[i].flatten().reshape(1, -1)\n",
        "\n",
        "# from sklearn.ensemble import RandomForestClassifier\n",
        "# clf1 = RandomForestClassifier()\n",
        "# clf1.fit(X,Y)\n",
        "# Y_pred_rf_1 = clf1.predict(X_test)\n",
        "# print(\"Random forests: \")\n",
        "# print(clf1.classification_report(Y_test,Y_pred_rf_1))\n",
        "# print(\"Train: \"+ str(clf1.score(X,Y)))\n",
        "# print(\"Test: \" + str(clf1.score(X_test,Y_test)))\n",
        "\n",
        "from sklearn.model_selection import RandomizedSearchCV\n",
        "import numpy as np\n",
        "\n",
        "# Number of trees in random forest\n",
        "n_estimators = [int(x) for x in np.linspace(start = 20, stop = 2000, num = 10)]\n",
        "\n",
        "max_features = ['auto', 'sqrt']\n",
        "max_depth = [int(x) for x in np.linspace(10, 110, num = 11)]\n",
        "max_depth.append(None)\n",
        "min_samples_split = [2, 5, 10]\n",
        "min_samples_leaf = [1, 2, 4]\n",
        "bootstrap = [True, False]\n",
        "\n",
        "random_grid = {'n_estimators': n_estimators,\n",
        "               'max_features': max_features,\n",
        "               'max_depth': max_depth,\n",
        "               'min_samples_split': min_samples_split,\n",
        "               'min_samples_leaf': min_samples_leaf,\n",
        "               'bootstrap': bootstrap}\n",
        "\n",
        "# print(random_grid)\n",
        "\n",
        "from sklearn.ensemble import RandomForestClassifier\n",
        "rf = RandomForestClassifier()\n",
        "\n",
        "rf_random = RandomizedSearchCV(estimator = rf, param_distributions = random_grid, n_iter = 100, cv = 3, verbose=1, random_state=42, n_jobs = -1)\n",
        "rf_random.fit(X, Y)\n",
        "\n",
        "from sklearn.model_selection import GridSearchCV\n",
        "# Create the parameter grid based on the results of random search \n",
        "max_depth = rf_random.best_params_['max_depth']\n",
        "max_features = rf_random.best_params_['max_features']\n",
        "min_samples_leaf = rf_random.best_params_['min_samples_leaf']\n",
        "min_samples_split  = rf_random.best_params_['min_samples_split'] \n",
        "n_estimators = rf_random.best_params_['n_estimators'] \n",
        "\n",
        "param_grid = {\n",
        "    'bootstrap': [rf_random.best_params_['bootstrap']],\n",
        "    'max_depth': [max_depth - 10,max_depth, max_depth + 10],\n",
        "    'max_features': [2, 3],\n",
        "    'min_samples_leaf': [min_samples_leaf - 1, min_samples_leaf, min_samples_leaf + 1],\n",
        "    'min_samples_split': [min_samples_split - 2, min_samples_split, min_samples_split + 2],\n",
        "    'n_estimators': [100, abs(n_estimators - 50), n_estimators, n_estimators + 50, 2*n_estimators]\n",
        "}\n",
        "rf = RandomForestClassifier()\n",
        "# Instantiate the grid search model\n",
        "grid_search = GridSearchCV(estimator = rf, param_grid = param_grid, \n",
        "                          cv = 3, n_jobs = -1, verbose = 1)\n",
        "\n",
        "grid_search.fit(X, Y)\n",
        "print(\"FINALLY CORRECT\") \n",
        "print(grid_search.best_params_)\n",
        "print(\"Random forests: \")\n",
        "Y_pred_rf_1 = grid_search.predict(X_test)\n",
        "print(classification_report(Y_test,Y_pred_rf_1))\n",
        "print(\"Train: \"+ str(grid_search.score(X,Y)))\n",
        "print(\"Test: \" + str(grid_search.score(X_test,Y_test)))"
      ],
      "execution_count": 4,
      "outputs": [
        {
          "output_type": "stream",
          "name": "stderr",
          "text": [
            "<ipython-input-4-ecadd385ea45>:63: VisibleDeprecationWarning: Creating an ndarray from ragged nested sequences (which is a list-or-tuple of lists-or-tuples-or ndarrays with different lengths or shapes) is deprecated. If you meant to do this, you must specify 'dtype=object' when creating the ndarray.\n",
            "  Data2 = np.array(Data2)\n",
            "<ipython-input-4-ecadd385ea45>:64: VisibleDeprecationWarning: Creating an ndarray from ragged nested sequences (which is a list-or-tuple of lists-or-tuples-or ndarrays with different lengths or shapes) is deprecated. If you meant to do this, you must specify 'dtype=object' when creating the ndarray.\n",
            "  Data2_test = np.array(Data2_test)\n"
          ]
        },
        {
          "output_type": "stream",
          "name": "stdout",
          "text": [
            "(81, 200, 15)\n",
            "(47, 200, 15)\n",
            "Fitting 3 folds for each of 100 candidates, totalling 300 fits\n",
            "Fitting 3 folds for each of 270 candidates, totalling 810 fits\n",
            "FINALLY CORRECT\n",
            "{'bootstrap': False, 'max_depth': 30, 'max_features': 3, 'min_samples_leaf': 1, 'min_samples_split': 12, 'n_estimators': 240}\n",
            "Random forests: \n",
            "              precision    recall  f1-score   support\n",
            "\n",
            "         0.0       0.61      0.42      0.50        33\n",
            "         1.0       0.21      0.36      0.26        14\n",
            "\n",
            "    accuracy                           0.40        47\n",
            "   macro avg       0.41      0.39      0.38        47\n",
            "weighted avg       0.49      0.40      0.43        47\n",
            "\n",
            "Train: 0.9629629629629629\n",
            "Test: 0.40425531914893614\n"
          ]
        }
      ]
    }
  ]
}